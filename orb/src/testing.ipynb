{
 "cells": [
  {
   "cell_type": "code",
   "execution_count": 7,
   "metadata": {},
   "outputs": [],
   "source": [
    "import logging\n",
    "import random\n",
    "import time\n",
    "\n",
    "from selenium import webdriver\n",
    "from selenium.webdriver.chrome.options import Options\n",
    "from selenium.webdriver.common.by import By\n",
    "from selenium.webdriver.common.keys import Keys\n",
    "from selenium.webdriver.support import expected_conditions as ec\n",
    "from selenium.webdriver.support.ui import WebDriverWait\n",
    "from selenium.webdriver.support.ui import WebDriverWait as wait\n",
    "\n",
    "\n",
    "\n",
    "\n",
    "from selenium import webdriver\n",
    "from selenium.webdriver.chrome.options import Options"
   ]
  },
  {
   "cell_type": "code",
   "execution_count": 48,
   "metadata": {},
   "outputs": [],
   "source": [
    "from selenium import webdriver\n",
    "from selenium.webdriver.chrome.options import Options\n",
    "from typing import Dict\n",
    "from orb.utils import GetUserAgent\n",
    "from orb.utils import GetProxies\n",
    "from webdriver_manager.chrome import ChromeDriverManager\n",
    "\n",
    "import logging\n",
    "import random\n",
    "\n",
    "from selenium.webdriver.common.by import By\n",
    "\n",
    "from orb.spinner.utils.spoofing import DriverSpoofing\n",
    "\n",
    "log = logging.getLogger(__name__)\n",
    "\n",
    "\n",
    "\n",
    "class OrbDriver:\n",
    "\n",
    "    def __init__(self, *args, **kwargs):\n",
    "        self.driver_spoof = DriverSpoofing()\n",
    "\n",
    "        if kwargs.get('headless'):\n",
    "            self.headless = kwargs['headless']\n",
    "        else:\n",
    "            self.headless = None\n",
    "\n",
    "    @property\n",
    "    def random_user_agent(self) -> 'GetUserAgent':\n",
    "        return GetUserAgent().headers_dict['User-Agent']\n",
    "\n",
    "    @property\n",
    "    def random_proxy(self) -> 'GetProxies':\n",
    "        return GetProxies().proxy_dict['https']\n",
    "\n",
    "    def _webdriver_options_init(self):\n",
    "\n",
    "        # Initialise webdriver options\n",
    "        self.webdriver_options = Options()\n",
    "\n",
    "        # Default webdriver options\n",
    "        # Disable javascript\n",
    "        self.webdriver_options.add_argument(\"--disable-javascript\")\n",
    "\n",
    "        # Set to headless if applicable\n",
    "        if self.headless:\n",
    "            self.webdriver_options.add_argument(\"--headless\")\n",
    "\n",
    "        # Set the user agent string\n",
    "        user_agent = self.random_user_agent\n",
    "        log.info(f\"Initialising webdriver with user-agent: {user_agent} \")\n",
    "        self.webdriver_options.add_argument(f\"user-agent={user_agent}\")\n",
    "\n",
    "        # Set the proxy string\n",
    "        proxy = self.random_proxy\n",
    "        log.info(f\"Initialising webdriver with proxy: {proxy} \")\n",
    "        self.webdriver_options.add_argument(f'--proxy-server={proxy}')\n",
    "\n",
    "    def change_driver_viewport(self):\n",
    "\n",
    "        self.driver_spoof.change_viewport_size(\n",
    "            driver=self.driver\n",
    "        )\n",
    "\n",
    "    def get_webdriver(self, url: str = None):\n",
    "\n",
    "        # Always install the latest web driver\n",
    "        driver_install = ChromeDriverManager().install()\n",
    "        \n",
    "        # Initialise webdriver options\n",
    "        self._webdriver_options_init()\n",
    "\n",
    "        # Initialize the webdriver with the options\n",
    "        self.driver = webdriver.Chrome(driver_install, options=self.webdriver_options)\n",
    "        \n",
    "        if url:\n",
    "            return self.driver.get(url=url)\n",
    "        return self.driver\n"
   ]
  },
  {
   "cell_type": "code",
   "execution_count": 49,
   "metadata": {},
   "outputs": [],
   "source": [
    "from selenium.webdriver.common.action_chains import ActionChains"
   ]
  },
  {
   "cell_type": "code",
   "execution_count": null,
   "metadata": {},
   "outputs": [],
   "source": []
  },
  {
   "cell_type": "code",
   "execution_count": null,
   "metadata": {},
   "outputs": [],
   "source": []
  },
  {
   "cell_type": "code",
   "execution_count": null,
   "metadata": {},
   "outputs": [],
   "source": []
  },
  {
   "cell_type": "code",
   "execution_count": null,
   "metadata": {},
   "outputs": [],
   "source": []
  },
  {
   "cell_type": "code",
   "execution_count": null,
   "metadata": {},
   "outputs": [],
   "source": []
  }
 ],
 "metadata": {
  "kernelspec": {
   "display_name": "Python 3.10.6 ('venv': venv)",
   "language": "python",
   "name": "python3"
  },
  "language_info": {
   "codemirror_mode": {
    "name": "ipython",
    "version": 3
   },
   "file_extension": ".py",
   "mimetype": "text/x-python",
   "name": "python",
   "nbconvert_exporter": "python",
   "pygments_lexer": "ipython3",
   "version": "3.10.6"
  },
  "orig_nbformat": 4,
  "vscode": {
   "interpreter": {
    "hash": "61307351c528aac8005b6c64bcb4b3d19a74975ec75d5e1fa797c0c55a6aef22"
   }
  }
 },
 "nbformat": 4,
 "nbformat_minor": 2
}
