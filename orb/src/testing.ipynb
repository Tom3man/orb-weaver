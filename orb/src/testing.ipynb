{
 "cells": [
  {
   "cell_type": "code",
   "execution_count": 1,
   "metadata": {},
   "outputs": [],
   "source": [
    "import logging\n",
    "import random\n",
    "import time\n",
    "\n",
    "from selenium import webdriver\n",
    "from selenium.webdriver.chrome.options import Options\n",
    "from selenium.webdriver.common.by import By\n",
    "from selenium.webdriver.common.keys import Keys\n",
    "from selenium.webdriver.support import expected_conditions as ec\n",
    "from selenium.webdriver.support.ui import WebDriverWait\n",
    "from selenium.webdriver.support.ui import WebDriverWait as wait\n",
    "\n",
    "\n",
    "from selenium.webdriver.common.action_chains import ActionChains\n",
    "\n",
    "from selenium import webdriver\n",
    "from selenium.webdriver.chrome.options import Options"
   ]
  },
  {
   "cell_type": "code",
   "execution_count": null,
   "metadata": {},
   "outputs": [],
   "source": []
  },
  {
   "cell_type": "code",
   "execution_count": null,
   "metadata": {},
   "outputs": [],
   "source": []
  },
  {
   "cell_type": "code",
   "execution_count": 2,
   "metadata": {},
   "outputs": [],
   "source": [
    "from selenium import webdriver\n",
    "from selenium.webdriver.chrome.options import Options\n",
    "from typing import Dict\n",
    "from orb.utils import GetUserAgent\n",
    "from orb.utils import GetProxies\n",
    "from webdriver_manager.chrome import ChromeDriverManager\n",
    "\n",
    "import logging\n",
    "import random\n",
    "\n",
    "from selenium.webdriver.common.by import By\n",
    "\n",
    "from orb.spinner.utils.spoofing import DriverSpoofing\n",
    "\n",
    "log = logging.getLogger(__name__)\n",
    "\n",
    "\n",
    "class OrbDriver:\n",
    "\n",
    "    \"\"\"\n",
    "    This class builds an instance of a chrome driver utilising a random proxy and headers (which can be rotated).\n",
    "    The driver instance can be created using the get_webdriver method.\n",
    "    \"\"\"\n",
    "\n",
    "    def __init__(self, *args, **kwargs):\n",
    "        self.driver_spoof = DriverSpoofing()\n",
    "\n",
    "        if kwargs.get('headless'):\n",
    "            self.headless = kwargs['headless']\n",
    "        else:\n",
    "            self.headless = None\n",
    "\n",
    "        self.driver_install = None\n",
    "\n",
    "    @property\n",
    "    def random_user_agent(self) -> 'GetUserAgent':\n",
    "        return GetUserAgent().headers_dict['User-Agent']\n",
    "\n",
    "    @property\n",
    "    def random_proxy(self) -> 'GetProxies':\n",
    "        return GetProxies().proxy_dict['https']\n",
    "\n",
    "    def _webdriver_options_init(self):\n",
    "\n",
    "        # Initialise webdriver options\n",
    "        self.webdriver_options = Options()\n",
    "\n",
    "        # Default webdriver options\n",
    "        # Disable javascript\n",
    "        self.webdriver_options.add_argument(\"--disable-javascript\")\n",
    "\n",
    "        # Set to headless if applicable\n",
    "        if self.headless:\n",
    "            self.webdriver_options.add_argument(\"--headless\")\n",
    "\n",
    "        # Set the user agent string\n",
    "        user_agent = self.random_user_agent\n",
    "        log.info(f\"Initialising webdriver with user-agent: {user_agent} \")\n",
    "        self.webdriver_options.add_argument(f\"user-agent={user_agent}\")\n",
    "\n",
    "        # Set the proxy string\n",
    "        proxy = self.random_proxy\n",
    "        log.info(f\"Initialising webdriver with proxy: {proxy} \")\n",
    "        self.webdriver_options.add_argument(f'--proxy-server={proxy}')\n",
    "\n",
    "    def change_driver_viewport(self):\n",
    "\n",
    "        self.driver_spoof.change_viewport_size(\n",
    "            driver=self.driver\n",
    "        )\n",
    "\n",
    "    def driver_init__(self):\n",
    "        # Always install the latest web driver\n",
    "        self.driver_install = ChromeDriverManager().install()\n",
    "\n",
    "    def get_webdriver(self) -> webdriver.Chrome:\n",
    "        \n",
    "        # Initialise webdriver options\n",
    "        self._webdriver_options_init()\n",
    "\n",
    "        # Always install the latest web driver\n",
    "        # Initialize the webdriver with the options\n",
    "        if not self.driver_install:\n",
    "            self.driver_init__()\n",
    "            self.driver = webdriver.Chrome(self.driver_install, options=self.webdriver_options)\n",
    "\n",
    "        self.driver = webdriver.Chrome(options=self.webdriver_options)\n",
    "        \n",
    "        return self.driver\n",
    "\n",
    "    def get_url(self, driver: webdriver.Chrome = None):\n",
    "        if not driver:\n",
    "            self.driver = self.get_webdriver()\n",
    "        else:\n",
    "            self.driver = driver\n",
    "\n",
    "        "
   ]
  },
  {
   "cell_type": "code",
   "execution_count": null,
   "metadata": {},
   "outputs": [],
   "source": []
  },
  {
   "cell_type": "code",
   "execution_count": null,
   "metadata": {},
   "outputs": [],
   "source": []
  },
  {
   "cell_type": "code",
   "execution_count": 3,
   "metadata": {},
   "outputs": [],
   "source": [
    "orb = OrbDriver()"
   ]
  },
  {
   "cell_type": "code",
   "execution_count": null,
   "metadata": {},
   "outputs": [],
   "source": []
  },
  {
   "cell_type": "code",
   "execution_count": 5,
   "metadata": {},
   "outputs": [
    {
     "name": "stderr",
     "output_type": "stream",
     "text": [
      "/tmp/ipykernel_17657/2414776706.py:86: DeprecationWarning: executable_path has been deprecated, please pass in a Service object\n",
      "  self.driver = webdriver.Chrome(self.driver_install, options=self.webdriver_options)\n"
     ]
    }
   ],
   "source": [
    "driver = orb.get_webdriver()"
   ]
  },
  {
   "cell_type": "code",
   "execution_count": null,
   "metadata": {},
   "outputs": [],
   "source": []
  },
  {
   "cell_type": "code",
   "execution_count": 6,
   "metadata": {},
   "outputs": [],
   "source": [
    "driver.get('https://the-internet.herokuapp.com/')"
   ]
  },
  {
   "cell_type": "code",
   "execution_count": null,
   "metadata": {},
   "outputs": [],
   "source": []
  },
  {
   "cell_type": "code",
   "execution_count": 3,
   "metadata": {},
   "outputs": [],
   "source": [
    "import concurrent.futures\n",
    "import functools\n",
    "import time\n",
    "from typing import Callable\n",
    "\n",
    "import logging\n",
    "from IPython.display import display, HTML\n",
    "\n",
    "# Create a logger\n",
    "logger = logging.getLogger()\n",
    "logger.setLevel(logging.DEBUG)\n",
    "\n",
    "# Create a log handler that outputs log messages to the notebook output\n",
    "log_handler = logging.StreamHandler()\n",
    "log_handler.setLevel(logging.DEBUG)\n",
    "log_format = logging.Formatter('%(levelname)s - %(message)s')\n",
    "log_handler.setFormatter(log_format)\n",
    "\n",
    "# Add the log handler to the logger\n",
    "logger.addHandler(log_handler)\n",
    "\n",
    "\n",
    "class OrbFailSafe:\n",
    "\n",
    "    MAX_ATTEMPTS = 3\n",
    "    TIMEOUT: int = 20\n",
    "\n",
    "    def __init__(self, driver: webdriver.Chrome = None) -> None:\n",
    "        if not driver:\n",
    "            self.driver = None\n",
    "            self.__init__driver()\n",
    "\n",
    "    def __init__driver(self):\n",
    "\n",
    "        if self.driver:\n",
    "            self.driver.close()\n",
    "\n",
    "        orb = OrbDriver()\n",
    "        self.driver = orb.get_webdriver()\n",
    "\n",
    "    def driver_timeout(self, func: Callable[[str], None], **kwargs):\n",
    "\n",
    "        # Creating a thread pool executor\n",
    "        executor = concurrent.futures.ThreadPoolExecutor()\n",
    "\n",
    "        # Creating a partial function with the variable\n",
    "        partial_function = functools.partial(func, **kwargs)\n",
    "\n",
    "        # Submitting the partial function to the executor\n",
    "        future = executor.submit(partial_function)\n",
    "\n",
    "        # Waiting for the function to complete or timeout\n",
    "        try:\n",
    "            future.result(timeout=self.TIMEOUT)\n",
    "            log.info(f\"{func.__name__}Function completed. Result:\")\n",
    "        except concurrent.futures.TimeoutError:\n",
    "            log.error(f\"{func.__name__} Function timed out. Cancelling...\")\n",
    "            future.cancel()\n",
    "\n",
    "            # If fails, define new instance and try again\n",
    "            self.__init__driver()\n",
    "            return\n",
    "\n",
    "        except Exception as e:\n",
    "            log.debug(\"An error occurred:\", e)\n",
    "            return\n",
    "\n",
    "        # Shutting down the executor\n",
    "        executor.shutdown()\n",
    "        return True\n",
    "\n",
    "    def _get_driver(self, url: str):\n",
    "        self.driver.get(url=url)\n",
    "\n",
    "    def get_url(self, url: str):\n",
    "\n",
    "        for _ in range(0, self.MAX_ATTEMPTS):\n",
    "            if self.driver_timeout(func=self._get_driver, url=url):\n",
    "                break\n",
    "            else:\n",
    "                self.driver.close()\n",
    "                self.__init__driver()\n",
    "\n",
    "\n"
   ]
  },
  {
   "cell_type": "code",
   "execution_count": 4,
   "metadata": {},
   "outputs": [
    {
     "name": "stderr",
     "output_type": "stream",
     "text": [
      "INFO - Initialising webdriver with user-agent: Mozilla/5.0 (Windows NT 6.2; WOW64) AppleWebKit/537.36 (KHTML like Gecko) Chrome/46.0.2486.0 Safari/537.36 Edge/13.9200 \n",
      "DEBUG - Starting new HTTPS connection (1): free-proxy-list.net:443\n",
      "DEBUG - https://free-proxy-list.net:443 \"GET / HTTP/1.1\" 200 None\n",
      "DEBUG - Starting new HTTP connection (1): 3.36.130.175:80\n",
      "DEBUG - http://3.36.130.175:80 \"GET http://www.example.com/ HTTP/1.1\" 200 1227\n",
      "INFO - 3.36.130.175:80 Proxy is working!\n",
      "INFO - Initialising webdriver with proxy: 3.36.130.175:80 \n",
      "INFO - ====== WebDriver manager ======\n",
      "INFO - Driver [/home/tom/.wdm/drivers/chromedriver/linux64/110.0.5481.77/chromedriver] found in cache\n",
      "/tmp/ipykernel_15318/122579604.py:86: DeprecationWarning: executable_path has been deprecated, please pass in a Service object\n",
      "  self.driver = webdriver.Chrome(self.driver_install, options=self.webdriver_options)\n",
      "DEBUG - Started executable: `/home/tom/.wdm/drivers/chromedriver/linux64/110.0.5481.77/chromedriver` in a child process with pid: 15378\n",
      "DEBUG - POST http://localhost:40853/session {\"capabilities\": {\"firstMatch\": [{}], \"alwaysMatch\": {\"browserName\": \"chrome\", \"pageLoadStrategy\": \"normal\", \"goog:chromeOptions\": {\"extensions\": [], \"args\": [\"--disable-javascript\", \"user-agent=Mozilla/5.0 (Windows NT 6.2; WOW64) AppleWebKit/537.36 (KHTML like Gecko) Chrome/46.0.2486.0 Safari/537.36 Edge/13.9200\", \"--proxy-server=3.36.130.175:80\"]}}}}\n",
      "DEBUG - Starting new HTTP connection (1): localhost:40853\n",
      "DEBUG - http://localhost:40853 \"POST /session HTTP/1.1\" 200 753\n",
      "DEBUG - Remote response: status=200 | data={\"value\":{\"capabilities\":{\"acceptInsecureCerts\":false,\"browserName\":\"chrome\",\"browserVersion\":\"110.0.5481.100\",\"chrome\":{\"chromedriverVersion\":\"110.0.5481.77 (65ed616c6e8ee3fe0ad64fe83796c020644d42af-refs/branch-heads/5481@{#839})\",\"userDataDir\":\"/tmp/.com.google.Chrome.yS6Z5W\"},\"goog:chromeOptions\":{\"debuggerAddress\":\"localhost:45161\"},\"networkConnectionEnabled\":false,\"pageLoadStrategy\":\"normal\",\"platformName\":\"linux\",\"proxy\":{},\"setWindowRect\":true,\"strictFileInteractability\":false,\"timeouts\":{\"implicit\":0,\"pageLoad\":300000,\"script\":30000},\"unhandledPromptBehavior\":\"dismiss and notify\",\"webauthn:extension:credBlob\":true,\"webauthn:extension:largeBlob\":true,\"webauthn:virtualAuthenticators\":true},\"sessionId\":\"4c62f1c2b478189e00d7a7a9d0b7d770\"}} | headers=HTTPHeaderDict({'Content-Length': '753', 'Content-Type': 'application/json; charset=utf-8', 'cache-control': 'no-cache'})\n",
      "DEBUG - Finished Request\n",
      "INFO - Applicable driver not found; attempting to install with Selenium Manager (Beta)\n",
      "DEBUG - Executing process: /home/tom/Coding/Resources/maintained/repositories/orb-weaver/venv/lib/python3.10/site-packages/selenium/webdriver/common/linux/selenium-manager --browser chrome --output json --debug\n",
      "DEBUG - Using shell command to find out chrome version\n",
      "DEBUG - Running command: \"google-chrome --version\"\n",
      "DEBUG - Output: \"Google Chrome 110.0.5481.100 \"\n",
      "DEBUG - The version of chrome is 110.0.5481.100\n",
      "DEBUG - Detected browser: chrome 110\n",
      "DEBUG - Required driver: chromedriver 110.0.5481.77\n",
      "DEBUG - Running command: \"chromedriver --version\"\n",
      "DEBUG - Output: \"\"\n",
      "DEBUG - chromedriver 110.0.5481.77 already in the cache\n",
      "DEBUG - Using driver at: /home/tom/.cache/selenium/chromedriver/linux64/110.0.5481.77/chromedriver\n",
      "DEBUG - Started executable: `/home/tom/.cache/selenium/chromedriver/linux64/110.0.5481.77/chromedriver` in a child process with pid: 15546\n",
      "DEBUG - POST http://localhost:54407/session {\"capabilities\": {\"firstMatch\": [{}], \"alwaysMatch\": {\"browserName\": \"chrome\", \"pageLoadStrategy\": \"normal\", \"goog:chromeOptions\": {\"extensions\": [], \"args\": [\"--disable-javascript\", \"user-agent=Mozilla/5.0 (Windows NT 6.2; WOW64) AppleWebKit/537.36 (KHTML like Gecko) Chrome/46.0.2486.0 Safari/537.36 Edge/13.9200\", \"--proxy-server=3.36.130.175:80\"]}}}}\n",
      "DEBUG - Starting new HTTP connection (1): localhost:54407\n",
      "DEBUG - http://localhost:54407 \"POST /session HTTP/1.1\" 200 753\n",
      "DEBUG - Remote response: status=200 | data={\"value\":{\"capabilities\":{\"acceptInsecureCerts\":false,\"browserName\":\"chrome\",\"browserVersion\":\"110.0.5481.100\",\"chrome\":{\"chromedriverVersion\":\"110.0.5481.77 (65ed616c6e8ee3fe0ad64fe83796c020644d42af-refs/branch-heads/5481@{#839})\",\"userDataDir\":\"/tmp/.com.google.Chrome.1aEO26\"},\"goog:chromeOptions\":{\"debuggerAddress\":\"localhost:44043\"},\"networkConnectionEnabled\":false,\"pageLoadStrategy\":\"normal\",\"platformName\":\"linux\",\"proxy\":{},\"setWindowRect\":true,\"strictFileInteractability\":false,\"timeouts\":{\"implicit\":0,\"pageLoad\":300000,\"script\":30000},\"unhandledPromptBehavior\":\"dismiss and notify\",\"webauthn:extension:credBlob\":true,\"webauthn:extension:largeBlob\":true,\"webauthn:virtualAuthenticators\":true},\"sessionId\":\"5eb659fc0e54d87133f16b60e5e099f2\"}} | headers=HTTPHeaderDict({'Content-Length': '753', 'Content-Type': 'application/json; charset=utf-8', 'cache-control': 'no-cache'})\n",
      "DEBUG - Finished Request\n"
     ]
    }
   ],
   "source": [
    "orb = OrbFailSafe()"
   ]
  },
  {
   "cell_type": "code",
   "execution_count": 6,
   "metadata": {},
   "outputs": [
    {
     "name": "stderr",
     "output_type": "stream",
     "text": [
      "DEBUG - POST http://localhost:54407/session/5eb659fc0e54d87133f16b60e5e099f2/url {\"url\": \"https://the-internet.herokuapp.com/\"}\n",
      "DEBUG - http://localhost:54407 \"POST /session/5eb659fc0e54d87133f16b60e5e099f2/url HTTP/1.1\" 200 14\n",
      "DEBUG - Remote response: status=200 | data={\"value\":null} | headers=HTTPHeaderDict({'Content-Length': '14', 'Content-Type': 'application/json; charset=utf-8', 'cache-control': 'no-cache'})\n",
      "DEBUG - Finished Request\n",
      "INFO - _get_driverFunction completed. Result:\n"
     ]
    }
   ],
   "source": [
    "orb.get_url(url='https://the-internet.herokuapp.com/')"
   ]
  },
  {
   "cell_type": "code",
   "execution_count": null,
   "metadata": {},
   "outputs": [],
   "source": []
  },
  {
   "cell_type": "code",
   "execution_count": 19,
   "metadata": {},
   "outputs": [
    {
     "name": "stderr",
     "output_type": "stream",
     "text": [
      "INFO - Initialising webdriver with user-agent: Mozilla/5.0 (Macintosh; U; Intel Mac OS X 10_6_3; de-de) AppleWebKit/531.22.7 (KHTML, like Gecko) Version/4.0.5 Safari/531.22.7 \n",
      "INFO - Initialising webdriver with user-agent: Mozilla/5.0 (Macintosh; U; Intel Mac OS X 10_6_3; de-de) AppleWebKit/531.22.7 (KHTML, like Gecko) Version/4.0.5 Safari/531.22.7 \n",
      "DEBUG - Starting new HTTPS connection (1): free-proxy-list.net:443\n",
      "DEBUG - Starting new HTTPS connection (1): free-proxy-list.net:443\n",
      "DEBUG - https://free-proxy-list.net:443 \"GET / HTTP/1.1\" 200 None\n",
      "DEBUG - https://free-proxy-list.net:443 \"GET / HTTP/1.1\" 200 None\n",
      "INFO - Initialising webdriver with proxy: 86.98.0.231:8080 \n",
      "INFO - Initialising webdriver with proxy: 86.98.0.231:8080 \n",
      "INFO - ====== WebDriver manager ======\n",
      "INFO - ====== WebDriver manager ======\n",
      "INFO - Driver [/home/tom/.wdm/drivers/chromedriver/linux64/110.0.5481.77/chromedriver] found in cache\n",
      "INFO - Driver [/home/tom/.wdm/drivers/chromedriver/linux64/110.0.5481.77/chromedriver] found in cache\n",
      "/tmp/ipykernel_67213/2414776706.py:86: DeprecationWarning: executable_path has been deprecated, please pass in a Service object\n",
      "  self.driver = webdriver.Chrome(self.driver_install, options=self.webdriver_options)\n",
      "DEBUG - Started executable: `/home/tom/.wdm/drivers/chromedriver/linux64/110.0.5481.77/chromedriver` in a child process with pid: 312557\n",
      "DEBUG - Started executable: `/home/tom/.wdm/drivers/chromedriver/linux64/110.0.5481.77/chromedriver` in a child process with pid: 312557\n",
      "DEBUG - POST http://localhost:51179/session {\"capabilities\": {\"firstMatch\": [{}], \"alwaysMatch\": {\"browserName\": \"chrome\", \"pageLoadStrategy\": \"normal\", \"goog:chromeOptions\": {\"extensions\": [], \"args\": [\"--disable-javascript\", \"user-agent=Mozilla/5.0 (Macintosh; U; Intel Mac OS X 10_6_3; de-de) AppleWebKit/531.22.7 (KHTML, like Gecko) Version/4.0.5 Safari/531.22.7\", \"--proxy-server=86.98.0.231:8080\"]}}}}\n",
      "DEBUG - POST http://localhost:51179/session {\"capabilities\": {\"firstMatch\": [{}], \"alwaysMatch\": {\"browserName\": \"chrome\", \"pageLoadStrategy\": \"normal\", \"goog:chromeOptions\": {\"extensions\": [], \"args\": [\"--disable-javascript\", \"user-agent=Mozilla/5.0 (Macintosh; U; Intel Mac OS X 10_6_3; de-de) AppleWebKit/531.22.7 (KHTML, like Gecko) Version/4.0.5 Safari/531.22.7\", \"--proxy-server=86.98.0.231:8080\"]}}}}\n",
      "DEBUG - Starting new HTTP connection (1): localhost:51179\n",
      "DEBUG - Starting new HTTP connection (1): localhost:51179\n",
      "DEBUG - http://localhost:51179 \"POST /session HTTP/1.1\" 200 753\n",
      "DEBUG - http://localhost:51179 \"POST /session HTTP/1.1\" 200 753\n",
      "DEBUG - Remote response: status=200 | data={\"value\":{\"capabilities\":{\"acceptInsecureCerts\":false,\"browserName\":\"chrome\",\"browserVersion\":\"110.0.5481.100\",\"chrome\":{\"chromedriverVersion\":\"110.0.5481.77 (65ed616c6e8ee3fe0ad64fe83796c020644d42af-refs/branch-heads/5481@{#839})\",\"userDataDir\":\"/tmp/.com.google.Chrome.mI6tpx\"},\"goog:chromeOptions\":{\"debuggerAddress\":\"localhost:36157\"},\"networkConnectionEnabled\":false,\"pageLoadStrategy\":\"normal\",\"platformName\":\"linux\",\"proxy\":{},\"setWindowRect\":true,\"strictFileInteractability\":false,\"timeouts\":{\"implicit\":0,\"pageLoad\":300000,\"script\":30000},\"unhandledPromptBehavior\":\"dismiss and notify\",\"webauthn:extension:credBlob\":true,\"webauthn:extension:largeBlob\":true,\"webauthn:virtualAuthenticators\":true},\"sessionId\":\"4b470150a18fdc706815c966811f9e74\"}} | headers=HTTPHeaderDict({'Content-Length': '753', 'Content-Type': 'application/json; charset=utf-8', 'cache-control': 'no-cache'})\n",
      "DEBUG - Remote response: status=200 | data={\"value\":{\"capabilities\":{\"acceptInsecureCerts\":false,\"browserName\":\"chrome\",\"browserVersion\":\"110.0.5481.100\",\"chrome\":{\"chromedriverVersion\":\"110.0.5481.77 (65ed616c6e8ee3fe0ad64fe83796c020644d42af-refs/branch-heads/5481@{#839})\",\"userDataDir\":\"/tmp/.com.google.Chrome.mI6tpx\"},\"goog:chromeOptions\":{\"debuggerAddress\":\"localhost:36157\"},\"networkConnectionEnabled\":false,\"pageLoadStrategy\":\"normal\",\"platformName\":\"linux\",\"proxy\":{},\"setWindowRect\":true,\"strictFileInteractability\":false,\"timeouts\":{\"implicit\":0,\"pageLoad\":300000,\"script\":30000},\"unhandledPromptBehavior\":\"dismiss and notify\",\"webauthn:extension:credBlob\":true,\"webauthn:extension:largeBlob\":true,\"webauthn:virtualAuthenticators\":true},\"sessionId\":\"4b470150a18fdc706815c966811f9e74\"}} | headers=HTTPHeaderDict({'Content-Length': '753', 'Content-Type': 'application/json; charset=utf-8', 'cache-control': 'no-cache'})\n",
      "DEBUG - Finished Request\n",
      "DEBUG - Finished Request\n",
      "INFO - Applicable driver not found; attempting to install with Selenium Manager (Beta)\n",
      "INFO - Applicable driver not found; attempting to install with Selenium Manager (Beta)\n",
      "DEBUG - Executing process: /home/tom/Coding/Resources/maintained/repositories/orb-weaver/venv/lib/python3.10/site-packages/selenium/webdriver/common/linux/selenium-manager --browser chrome --output json --debug\n",
      "DEBUG - Executing process: /home/tom/Coding/Resources/maintained/repositories/orb-weaver/venv/lib/python3.10/site-packages/selenium/webdriver/common/linux/selenium-manager --browser chrome --output json --debug\n",
      "DEBUG - Using shell command to find out chrome version\n",
      "DEBUG - Using shell command to find out chrome version\n",
      "DEBUG - Running command: \"google-chrome --version\"\n",
      "DEBUG - Running command: \"google-chrome --version\"\n",
      "DEBUG - Output: \"Google Chrome 110.0.5481.100 \"\n",
      "DEBUG - Output: \"Google Chrome 110.0.5481.100 \"\n",
      "DEBUG - The version of chrome is 110.0.5481.100\n",
      "DEBUG - The version of chrome is 110.0.5481.100\n",
      "DEBUG - Detected browser: chrome 110\n",
      "DEBUG - Detected browser: chrome 110\n",
      "DEBUG - Required driver: chromedriver 110.0.5481.77\n",
      "DEBUG - Required driver: chromedriver 110.0.5481.77\n",
      "DEBUG - Running command: \"chromedriver --version\"\n",
      "DEBUG - Running command: \"chromedriver --version\"\n",
      "DEBUG - Output: \"\"\n",
      "DEBUG - Output: \"\"\n",
      "DEBUG - chromedriver 110.0.5481.77 already in the cache\n",
      "DEBUG - chromedriver 110.0.5481.77 already in the cache\n",
      "DEBUG - Using driver at: /home/tom/.cache/selenium/chromedriver/linux64/110.0.5481.77/chromedriver\n",
      "DEBUG - Using driver at: /home/tom/.cache/selenium/chromedriver/linux64/110.0.5481.77/chromedriver\n",
      "DEBUG - Started executable: `/home/tom/.cache/selenium/chromedriver/linux64/110.0.5481.77/chromedriver` in a child process with pid: 312727\n",
      "DEBUG - Started executable: `/home/tom/.cache/selenium/chromedriver/linux64/110.0.5481.77/chromedriver` in a child process with pid: 312727\n",
      "DEBUG - POST http://localhost:60603/session {\"capabilities\": {\"firstMatch\": [{}], \"alwaysMatch\": {\"browserName\": \"chrome\", \"pageLoadStrategy\": \"normal\", \"goog:chromeOptions\": {\"extensions\": [], \"args\": [\"--disable-javascript\", \"user-agent=Mozilla/5.0 (Macintosh; U; Intel Mac OS X 10_6_3; de-de) AppleWebKit/531.22.7 (KHTML, like Gecko) Version/4.0.5 Safari/531.22.7\", \"--proxy-server=86.98.0.231:8080\"]}}}}\n",
      "DEBUG - POST http://localhost:60603/session {\"capabilities\": {\"firstMatch\": [{}], \"alwaysMatch\": {\"browserName\": \"chrome\", \"pageLoadStrategy\": \"normal\", \"goog:chromeOptions\": {\"extensions\": [], \"args\": [\"--disable-javascript\", \"user-agent=Mozilla/5.0 (Macintosh; U; Intel Mac OS X 10_6_3; de-de) AppleWebKit/531.22.7 (KHTML, like Gecko) Version/4.0.5 Safari/531.22.7\", \"--proxy-server=86.98.0.231:8080\"]}}}}\n",
      "DEBUG - Starting new HTTP connection (1): localhost:60603\n",
      "DEBUG - Starting new HTTP connection (1): localhost:60603\n",
      "DEBUG - http://localhost:38907 \"POST /session/e319eea09d69c16ed5db29a7e832f0b3/url HTTP/1.1\" 200 14\n",
      "DEBUG - http://localhost:38907 \"POST /session/e319eea09d69c16ed5db29a7e832f0b3/url HTTP/1.1\" 200 14\n",
      "WARNING - Connection pool is full, discarding connection: localhost. Connection pool size: 1\n",
      "WARNING - Connection pool is full, discarding connection: localhost. Connection pool size: 1\n",
      "DEBUG - Remote response: status=200 | data={\"value\":null} | headers=HTTPHeaderDict({'Content-Length': '14', 'Content-Type': 'application/json; charset=utf-8', 'cache-control': 'no-cache'})\n",
      "DEBUG - Remote response: status=200 | data={\"value\":null} | headers=HTTPHeaderDict({'Content-Length': '14', 'Content-Type': 'application/json; charset=utf-8', 'cache-control': 'no-cache'})\n",
      "DEBUG - Finished Request\n",
      "DEBUG - Finished Request\n",
      "DEBUG - http://localhost:60603 \"POST /session HTTP/1.1\" 200 753\n",
      "DEBUG - http://localhost:60603 \"POST /session HTTP/1.1\" 200 753\n",
      "DEBUG - Remote response: status=200 | data={\"value\":{\"capabilities\":{\"acceptInsecureCerts\":false,\"browserName\":\"chrome\",\"browserVersion\":\"110.0.5481.100\",\"chrome\":{\"chromedriverVersion\":\"110.0.5481.77 (65ed616c6e8ee3fe0ad64fe83796c020644d42af-refs/branch-heads/5481@{#839})\",\"userDataDir\":\"/tmp/.com.google.Chrome.UU15ui\"},\"goog:chromeOptions\":{\"debuggerAddress\":\"localhost:39129\"},\"networkConnectionEnabled\":false,\"pageLoadStrategy\":\"normal\",\"platformName\":\"linux\",\"proxy\":{},\"setWindowRect\":true,\"strictFileInteractability\":false,\"timeouts\":{\"implicit\":0,\"pageLoad\":300000,\"script\":30000},\"unhandledPromptBehavior\":\"dismiss and notify\",\"webauthn:extension:credBlob\":true,\"webauthn:extension:largeBlob\":true,\"webauthn:virtualAuthenticators\":true},\"sessionId\":\"025dc53edf403960e8e9a19d35f7acaa\"}} | headers=HTTPHeaderDict({'Content-Length': '753', 'Content-Type': 'application/json; charset=utf-8', 'cache-control': 'no-cache'})\n",
      "DEBUG - Remote response: status=200 | data={\"value\":{\"capabilities\":{\"acceptInsecureCerts\":false,\"browserName\":\"chrome\",\"browserVersion\":\"110.0.5481.100\",\"chrome\":{\"chromedriverVersion\":\"110.0.5481.77 (65ed616c6e8ee3fe0ad64fe83796c020644d42af-refs/branch-heads/5481@{#839})\",\"userDataDir\":\"/tmp/.com.google.Chrome.UU15ui\"},\"goog:chromeOptions\":{\"debuggerAddress\":\"localhost:39129\"},\"networkConnectionEnabled\":false,\"pageLoadStrategy\":\"normal\",\"platformName\":\"linux\",\"proxy\":{},\"setWindowRect\":true,\"strictFileInteractability\":false,\"timeouts\":{\"implicit\":0,\"pageLoad\":300000,\"script\":30000},\"unhandledPromptBehavior\":\"dismiss and notify\",\"webauthn:extension:credBlob\":true,\"webauthn:extension:largeBlob\":true,\"webauthn:virtualAuthenticators\":true},\"sessionId\":\"025dc53edf403960e8e9a19d35f7acaa\"}} | headers=HTTPHeaderDict({'Content-Length': '753', 'Content-Type': 'application/json; charset=utf-8', 'cache-control': 'no-cache'})\n",
      "DEBUG - Finished Request\n",
      "DEBUG - Finished Request\n"
     ]
    }
   ],
   "source": [
    "orb = OrbDriver()\n",
    "driver = orb.get_webdriver()"
   ]
  },
  {
   "cell_type": "code",
   "execution_count": 20,
   "metadata": {},
   "outputs": [
    {
     "name": "stderr",
     "output_type": "stream",
     "text": [
      "DEBUG - Starting new HTTPS connection (1): free-proxy-list.net:443\n",
      "DEBUG - Starting new HTTPS connection (1): free-proxy-list.net:443\n",
      "DEBUG - https://free-proxy-list.net:443 \"GET / HTTP/1.1\" 200 None\n",
      "DEBUG - https://free-proxy-list.net:443 \"GET / HTTP/1.1\" 200 None\n"
     ]
    },
    {
     "data": {
      "text/plain": [
       "'8.219.97.248:80'"
      ]
     },
     "execution_count": 20,
     "metadata": {},
     "output_type": "execute_result"
    }
   ],
   "source": [
    "orb.random_proxy"
   ]
  },
  {
   "cell_type": "code",
   "execution_count": 21,
   "metadata": {},
   "outputs": [
    {
     "name": "stderr",
     "output_type": "stream",
     "text": [
      "DEBUG - Starting new HTTPS connection (1): free-proxy-list.net:443\n",
      "DEBUG - Starting new HTTPS connection (1): free-proxy-list.net:443\n",
      "DEBUG - https://free-proxy-list.net:443 \"GET / HTTP/1.1\" 200 None\n",
      "DEBUG - https://free-proxy-list.net:443 \"GET / HTTP/1.1\" 200 None\n"
     ]
    },
    {
     "data": {
      "text/plain": [
       "'64.225.8.121:9985'"
      ]
     },
     "execution_count": 21,
     "metadata": {},
     "output_type": "execute_result"
    }
   ],
   "source": [
    "GetProxies().proxy_dict['https']"
   ]
  },
  {
   "cell_type": "code",
   "execution_count": 38,
   "metadata": {},
   "outputs": [],
   "source": [
    "import requests\n",
    "\n",
    "def test_proxy(proxies):\n",
    "    try:\n",
    "        # Define the URL you want to access through the proxy\n",
    "        url = 'http://www.example.com'\n",
    "\n",
    "        # Make a request using the proxy\n",
    "        response = requests.get(url, proxies=proxies, timeout=5)\n",
    "\n",
    "        # Check the response status code\n",
    "        if response.status_code == 200:\n",
    "            print(\"Proxy is working!\")\n",
    "        else:\n",
    "            print(\"Proxy is not working.\")\n",
    "    except requests.exceptions.RequestException:\n",
    "        print(\"Unable to connect to the proxy.\")\n",
    "\n"
   ]
  },
  {
   "cell_type": "code",
   "execution_count": 44,
   "metadata": {},
   "outputs": [
    {
     "name": "stderr",
     "output_type": "stream",
     "text": [
      "DEBUG - Starting new HTTP connection (1): 202.86.138.18:8080\n",
      "DEBUG - Starting new HTTP connection (1): 202.86.138.18:8080\n",
      "DEBUG - http://202.86.138.18:8080 \"GET http://www.example.com/ HTTP/1.1\" 200 648\n",
      "DEBUG - http://202.86.138.18:8080 \"GET http://www.example.com/ HTTP/1.1\" 200 648\n"
     ]
    },
    {
     "name": "stdout",
     "output_type": "stream",
     "text": [
      "Proxy is working!\n"
     ]
    }
   ],
   "source": [
    "# Usage example\n",
    "test_proxy(proxies)"
   ]
  },
  {
   "cell_type": "code",
   "execution_count": null,
   "metadata": {},
   "outputs": [],
   "source": []
  },
  {
   "cell_type": "code",
   "execution_count": null,
   "metadata": {},
   "outputs": [],
   "source": []
  },
  {
   "cell_type": "code",
   "execution_count": null,
   "metadata": {},
   "outputs": [],
   "source": []
  },
  {
   "cell_type": "code",
   "execution_count": 39,
   "metadata": {},
   "outputs": [
    {
     "name": "stderr",
     "output_type": "stream",
     "text": [
      "DEBUG - Starting new HTTPS connection (1): free-proxy-list.net:443\n",
      "DEBUG - Starting new HTTPS connection (1): free-proxy-list.net:443\n",
      "DEBUG - https://free-proxy-list.net:443 \"GET / HTTP/1.1\" 200 None\n",
      "DEBUG - https://free-proxy-list.net:443 \"GET / HTTP/1.1\" 200 None\n"
     ]
    },
    {
     "data": {
      "text/plain": [
       "{'http': '202.86.138.18:8080', 'https': '202.86.138.18:8080'}"
      ]
     },
     "execution_count": 39,
     "metadata": {},
     "output_type": "execute_result"
    }
   ],
   "source": [
    "proxies = GetProxies().proxy_dict\n",
    "proxies"
   ]
  },
  {
   "cell_type": "code",
   "execution_count": 36,
   "metadata": {},
   "outputs": [
    {
     "data": {
      "text/plain": [
       "{'http': '202.76.60.166:9443', 'https': '202.76.60.166:9443'}"
      ]
     },
     "execution_count": 36,
     "metadata": {},
     "output_type": "execute_result"
    }
   ],
   "source": [
    "proxies"
   ]
  },
  {
   "cell_type": "code",
   "execution_count": 22,
   "metadata": {},
   "outputs": [],
   "source": []
  },
  {
   "cell_type": "code",
   "execution_count": 23,
   "metadata": {},
   "outputs": [],
   "source": [
    "from typing import Callable, Tuple, Union\n",
    "import copy\n",
    "import selenium\n",
    "\n",
    "def assembeler(func: Callable) -> Callable:\n",
    "\n",
    "    def _copy(self, *args, **kwargs):\n",
    "        self_copy = copy.copy(self) if getattr(self, \"immutable\", True) else self\n",
    "        result = func(self_copy, *args, **kwargs)\n",
    "        if not result:\n",
    "            return self_copy\n",
    "        return result\n",
    "    return _copy\n",
    "\n",
    "\n",
    "class OrbBuilder:\n",
    "\n",
    "    LOCATOR_DICT = {\n",
    "        'id': By.ID,\n",
    "        'xpath': By.XPATH,\n",
    "        'link_text': By.LINK_TEXT,\n",
    "        'partial_link_text': By.PARTIAL_LINK_TEXT,\n",
    "        'name': By.NAME,\n",
    "        'tag_name': By.TAG_NAME,\n",
    "        'class_name': By.CLASS_NAME,\n",
    "        'css_selector': By.CSS_SELECTOR\n",
    "    }\n",
    "\n",
    "    # Intervals for which the driver will randomly wait for a time interval between\n",
    "    WAITING_INTERVALS: Tuple[Union[int, float], Union[int, float]] = (0.1, 3)\n",
    "\n",
    "    def __init__(self, driver: webdriver.Chrome) -> None:\n",
    "        self.driver = driver\n",
    "        self.instructions = []\n",
    "\n",
    "    def wait(self) -> int:\n",
    "        return random.uniform(\n",
    "            self.WAITING_INTERVALS[0], self.WAITING_INTERVALS[0])\n",
    "\n",
    "    @assembeler\n",
    "    def get_url(self, url: str):\n",
    "        self.driver.get(url)\n",
    "\n",
    "    @assembeler\n",
    "    def find_elements_with_driver(self, locator: str, value: str):\n",
    "\n",
    "        if not self.LOCATOR_DICT.get(locator):\n",
    "            log.error(f\"Locator strategy must be one of the following: {', '.join(self.LOCATOR_DICT.keys())}\")\n",
    "\n",
    "        self.elements = WebDriverWait(\n",
    "            self.driver, self.wait()).until(\n",
    "                ec.visibility_of_element_located((self.LOCATOR_DICT[locator], value)))\n",
    "\n",
    "    @assembeler\n",
    "    def find_elements_with_selenium_obj(self, obj: selenium.webdriver.remote.webelement.WebElement, locator: str, value: str):\n",
    "\n",
    "        if not self.LOCATOR_DICT.get(locator):\n",
    "            log.error(f\"Locator strategy must be one of the following: {', '.join(self.LOCATOR_DICT.keys())}\")\n",
    "\n",
    "        self.elements = WebDriverWait(\n",
    "            self.driver, self.wait()).until(\n",
    "                ec.visibility_of_element_located((self.LOCATOR_DICT[locator], value)))   "
   ]
  },
  {
   "cell_type": "code",
   "execution_count": 25,
   "metadata": {},
   "outputs": [
    {
     "data": {
      "text/plain": [
       "<selenium.webdriver.chrome.webdriver.WebDriver (session=\"71e00a9bcc359d242d56b236c186c4d6\")>"
      ]
     },
     "execution_count": 25,
     "metadata": {},
     "output_type": "execute_result"
    }
   ],
   "source": [
    "driver"
   ]
  },
  {
   "cell_type": "code",
   "execution_count": null,
   "metadata": {},
   "outputs": [],
   "source": []
  },
  {
   "cell_type": "code",
   "execution_count": null,
   "metadata": {},
   "outputs": [
    {
     "data": {
      "text/plain": [
       "selenium.webdriver.remote.webelement.WebElement"
      ]
     },
     "execution_count": 22,
     "metadata": {},
     "output_type": "execute_result"
    }
   ],
   "source": [
    "type(c.elements)"
   ]
  },
  {
   "cell_type": "code",
   "execution_count": 20,
   "metadata": {},
   "outputs": [
    {
     "data": {
      "text/plain": [
       "<selenium.webdriver.chrome.webdriver.WebDriver (session=\"71e00a9bcc359d242d56b236c186c4d6\")>"
      ]
     },
     "execution_count": 20,
     "metadata": {},
     "output_type": "execute_result"
    }
   ],
   "source": [
    "driver"
   ]
  },
  {
   "cell_type": "code",
   "execution_count": 27,
   "metadata": {},
   "outputs": [
    {
     "data": {
      "text/plain": [
       "[]"
      ]
     },
     "execution_count": 27,
     "metadata": {},
     "output_type": "execute_result"
    }
   ],
   "source": [
    "c.instructions"
   ]
  },
  {
   "cell_type": "code",
   "execution_count": 46,
   "metadata": {},
   "outputs": [],
   "source": [
    "driver"
   ]
  },
  {
   "cell_type": "code",
   "execution_count": null,
   "metadata": {},
   "outputs": [],
   "source": []
  }
 ],
 "metadata": {
  "kernelspec": {
   "display_name": "Python 3.10.6 ('venv': venv)",
   "language": "python",
   "name": "python3"
  },
  "language_info": {
   "codemirror_mode": {
    "name": "ipython",
    "version": 3
   },
   "file_extension": ".py",
   "mimetype": "text/x-python",
   "name": "python",
   "nbconvert_exporter": "python",
   "pygments_lexer": "ipython3",
   "version": "3.10.6"
  },
  "orig_nbformat": 4,
  "vscode": {
   "interpreter": {
    "hash": "61307351c528aac8005b6c64bcb4b3d19a74975ec75d5e1fa797c0c55a6aef22"
   }
  }
 },
 "nbformat": 4,
 "nbformat_minor": 2
}
